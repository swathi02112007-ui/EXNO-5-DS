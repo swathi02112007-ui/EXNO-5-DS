{
  "cells": [
    {
      "cell_type": "markdown",
      "metadata": {
        "id": "ZpmPWTIR5Kdl"
      },
      "source": [
        "**Data visualization Using Matplotlib**\n"
      ]
    },
    {
      "cell_type": "code",
      "execution_count": null,
      "metadata": {
        "id": "ne1kYA7c5FrF"
      },
      "outputs": [],
      "source": [
        "import pandas as pd\n",
        "import numpy as np\n",
        "import seaborn as sns\n",
        "import matplotlib.pyplot as plt"
      ]
    },
    {
      "cell_type": "code",
      "execution_count": null,
      "metadata": {
        "id": "nCcjbW9O5NST"
      },
      "outputs": [],
      "source": [
        "x = [1, 2, 3, 4, 5]\n",
        "y = [3, 6, 2, 7, 1]"
      ]
    },
    {
      "cell_type": "code",
      "execution_count": null,
      "metadata": {
        "id": "JSvFpHor5Q4R"
      },
      "outputs": [],
      "source": [
        "# CREATE A LINE GRAPH FOR X AND Y AND LABEL X axis and Y Axis and create a legend"
      ]
    },
    {
      "cell_type": "code",
      "execution_count": null,
      "metadata": {
        "id": "rCOeMm_X99OF"
      },
      "outputs": [],
      "source": [
        "# line 1 points\n",
        "x1 = [1,2,3]\n",
        "y1 = [2,4,1]\n",
        "x2 = [1,2,3]\n",
        "y2 = [4,1,3]"
      ]
    },
    {
      "cell_type": "code",
      "execution_count": null,
      "metadata": {
        "id": "mPnleF5R-XmM"
      },
      "outputs": [],
      "source": [
        "# plot line 1 and line 2 points in same graph and include the necessary parameters"
      ]
    },
    {
      "cell_type": "code",
      "execution_count": null,
      "metadata": {
        "id": "ek9nhdvY-dly"
      },
      "outputs": [],
      "source": [
        "# plot the points in the above graph"
      ]
    },
    {
      "cell_type": "code",
      "execution_count": null,
      "metadata": {
        "id": "MofkNnSt5xZQ"
      },
      "outputs": [],
      "source": [
        "# Creating some random data\n",
        "x = [1, 2, 3, 4, 5]\n",
        "y1 = [10, 12, 14, 16, 18]\n",
        "y2 = [5, 7, 9, 11, 13]\n",
        "y3 = [2, 4, 6, 8, 10]"
      ]
    },
    {
      "cell_type": "code",
      "execution_count": null,
      "metadata": {
        "id": "AFKPiqAV5ZWw"
      },
      "outputs": [],
      "source": [
        "x_values = [0,1,2,3,4,5]\n",
        "y_values = [0,1,4,9,16,25]"
      ]
    },
    {
      "cell_type": "code",
      "execution_count": null,
      "metadata": {
        "id": "7iPX5LAf-0Ty"
      },
      "outputs": [],
      "source": [
        "# implement line graph using fill between option"
      ]
    },
    {
      "cell_type": "code",
      "execution_count": null,
      "metadata": {
        "id": "7OeLM1md_CJH"
      },
      "outputs": [],
      "source": [
        "from scipy.interpolate import make_interp_spline\n",
        "x = np.array([1, 2, 3, 4, 5, 6, 7, 8, 9, 10])\n",
        "y = np.array([2, 4, 5, 7, 8, 8, 9, 10, 11, 12])"
      ]
    },
    {
      "cell_type": "code",
      "execution_count": null,
      "metadata": {
        "id": "Xm_NFeu1_TgC"
      },
      "outputs": [],
      "source": [
        "# interpolate data using cubic spline"
      ]
    },
    {
      "cell_type": "markdown",
      "metadata": {
        "id": "tRdqQerc_uHC"
      },
      "source": [
        "**BAR GRAPH**"
      ]
    },
    {
      "cell_type": "code",
      "execution_count": null,
      "metadata": {
        "id": "Wq0Lh0LH_cRK"
      },
      "outputs": [],
      "source": [
        "values = [5, 6, 3, 7, 2]\n",
        "names  = [\"A\", \"B\", \"C\", \"D\", \"E\"]"
      ]
    },
    {
      "cell_type": "code",
      "execution_count": null,
      "metadata": {
        "id": "0Mucc6HT_e2k"
      },
      "outputs": [],
      "source": [
        "# Create bar graph using the above two variables and include the necessary parameters\n",
        "\n",
        "c1 =['red', 'green']\n",
        "c2 =['b', 'g'] # we can use this for color\n",
        "# plot a bar chart\n"
      ]
    },
    {
      "cell_type": "code",
      "execution_count": null,
      "metadata": {
        "id": "hYO6yvQT_sdT"
      },
      "outputs": [],
      "source": [
        "df = sns.load_dataset(\"tips\")"
      ]
    },
    {
      "cell_type": "code",
      "execution_count": null,
      "metadata": {
        "id": "-3OJdr-caVSe"
      },
      "outputs": [],
      "source": [
        "df"
      ]
    },
    {
      "cell_type": "code",
      "execution_count": null,
      "metadata": {
        "id": "0GfUs2yLaWGx"
      },
      "outputs": [],
      "source": [
        "plt.figure(figsize=(8, 6))\n",
        "p1 = plt.bar(avg_total_bill.index, avg_total_bill, label='Total Bill')\n",
        "p2 = plt.bar(avg_tip.index, avg_tip, bottom=avg_total_bill, label='Tip')\n",
        "# Set the labels and title\n",
        "plt.xlabel('Day of the Week')\n",
        "plt.ylabel('Amount')\n",
        "plt.title('Average Total Bill and Tip by Day')\n",
        "plt.legend()\n"
      ]
    },
    {
      "cell_type": "markdown",
      "metadata": {
        "id": "GNxh0Jwlc_3g"
      },
      "source": [
        "**SCATTER PLOT**"
      ]
    },
    {
      "cell_type": "code",
      "execution_count": null,
      "metadata": {
        "id": "sXgSJgLya0sp"
      },
      "outputs": [],
      "source": [
        "x_values = [0,1,2,3,4,5]\n",
        "y_values = [0,1,4,9,16,25]"
      ]
    },
    {
      "cell_type": "code",
      "execution_count": null,
      "metadata": {
        "id": "SFqignYy5ovN"
      },
      "outputs": [],
      "source": [
        "# CREATE A SCATTER PLOT FOR X_VALUES AND Y_VALUES"
      ]
    },
    {
      "cell_type": "code",
      "execution_count": null,
      "metadata": {
        "id": "zg9L-696dGBW"
      },
      "outputs": [],
      "source": [
        "# x-axis values\n",
        "x = [1,2,3,4,5,6,7,8,9,10]\n",
        "# y-axis values\n",
        "y = [2,4,5,7,6,8,9,11,12,12]"
      ]
    },
    {
      "cell_type": "code",
      "execution_count": null,
      "metadata": {
        "id": "1MBAS6eDdcIR"
      },
      "outputs": [],
      "source": [
        "# plot the above points x and y in scatter plot Using the parmeters label= \"stars\", color=\"green\", marker=\"*\", s=30"
      ]
    },
    {
      "cell_type": "code",
      "execution_count": null,
      "metadata": {
        "id": "ZhY3_ltJdvi_"
      },
      "outputs": [],
      "source": [
        "# set x-axis label and y axis label\n",
        "\n"
      ]
    },
    {
      "cell_type": "code",
      "execution_count": null,
      "metadata": {
        "id": "JAol1RRmeBvE"
      },
      "outputs": [],
      "source": [
        "# set the title and legend of the graph\n"
      ]
    },
    {
      "cell_type": "markdown",
      "metadata": {
        "id": "bdGi3q8keSzm"
      },
      "source": [
        "**Pie-chart**"
      ]
    },
    {
      "cell_type": "code",
      "execution_count": null,
      "metadata": {
        "id": "U8Kw1PMGeWRL"
      },
      "outputs": [],
      "source": [
        "# defining labels\n",
        "activities = ['eat', 'sleep', 'work', 'play']\n",
        "# portion covered by each label\n",
        "slices = [3, 7, 8, 6]\n",
        "# color for each label\n",
        "colors = ['r', 'y', 'g', 'b']"
      ]
    },
    {
      "cell_type": "code",
      "execution_count": null,
      "metadata": {
        "id": "rSpqzDqdefhO"
      },
      "outputs": [],
      "source": [
        "# plot the pie chart using above parameters\n"
      ]
    }
  ],
  "metadata": {
    "colab": {
      "provenance": []
    },
    "kernelspec": {
      "display_name": "Python 3",
      "name": "python3"
    },
    "language_info": {
      "name": "python"
    }
  },
  "nbformat": 4,
  "nbformat_minor": 0
}
